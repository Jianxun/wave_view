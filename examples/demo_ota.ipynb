{
 "cells": [
  {
   "cell_type": "code",
   "execution_count": null,
   "metadata": {},
   "outputs": [],
   "source": "import yaml2plot as y2p\nimport numpy as np"
  },
  {
   "cell_type": "markdown",
   "metadata": {},
   "source": [
    "# Transient Analysis"
   ]
  },
  {
   "cell_type": "code",
   "execution_count": null,
   "metadata": {},
   "outputs": [],
   "source": "spice_file = \"./raw_data/tb_ota_5t/test_tran/results.raw\"\n\ndata = y2p.load_spice_raw(spice_file)\n\n# print(f\"Total signals: {len(data.signals)}\")\n# for signal in data.signals:\n#     print(f\"  - {signal}\")\n\n# Now proceed with plotting using YAML configuration\nspec = y2p.PlotSpec.from_yaml(\"\"\"\ntitle: \"SPICE Simulation - Key Signals\"\n\nX:\n  signal: \"time\"\n  label: \"Time (s)\"\n\nY:\n  - label: \"Voltages (V)\"\n    signals:\n      Input: \"v(in)\"\n      Output: \"v(out)\"\n      VDDA: \"v(vdda)\"\n      VSSA: \"v(vssa)\"\n      \n  - label: \"Current (A)\"\n    signals:\n      Supply Current: \"i(v_vdda)\"\n\nplot_height: 600\nshow_rangeslider: true\n\"\"\")\n\nfig1 = y2p.plot(data, spec)"
  },
  {
   "cell_type": "markdown",
   "metadata": {},
   "source": [
    "# AC Analysis"
   ]
  },
  {
   "cell_type": "code",
   "execution_count": null,
   "metadata": {},
   "outputs": [],
   "source": "spice_file = \"./raw_data/tb_ota_5t/test_ac/results.raw\"\n\ndata = y2p.load_spice_raw(spice_file)\n\ndata[\"tf_db\"] = 20*np.log10(np.abs(data[\"v(out)\"]))\ndata[\"tf_phase\"] = np.angle(data[\"v(out)\"])/np.pi*180\n\n# Now proceed with plotting using YAML configuration\nspec = y2p.PlotSpec.from_yaml(\"\"\"\ntitle: \"AC Analysis - Frequency Response\"\n\nX:\n  signal: \"frequency\"\n  label: \"Frequency (Hz)\"\n  scale: \"log\"\n                                    \nY:\n  - label: \"Magnitude (dB)\"\n    signals:\n      Magnitude: \"tf_db\"\n  - label: \"Phase (deg)\"\n    signals:\n      Phase: \"tf_phase\"\n\n                                    \nheight: 600\nwidth: 800\nshow_rangeslider: true\n\"\"\")\n\nfig2 = y2p.plot(data, spec)"
  },
  {
   "cell_type": "code",
   "execution_count": null,
   "metadata": {},
   "outputs": [],
   "source": []
  }
 ],
 "metadata": {
  "kernelspec": {
   "display_name": "venv",
   "language": "python",
   "name": "python3"
  },
  "language_info": {
   "codemirror_mode": {
    "name": "ipython",
    "version": 3
   },
   "file_extension": ".py",
   "mimetype": "text/x-python",
   "name": "python",
   "nbconvert_exporter": "python",
   "pygments_lexer": "ipython3",
   "version": "3.12.9"
  }
 },
 "nbformat": 4,
 "nbformat_minor": 2
}