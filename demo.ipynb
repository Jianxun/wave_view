{
 "cells": [
  {
   "cell_type": "code",
   "execution_count": 1,
   "metadata": {},
   "outputs": [],
   "source": [
    "\"\"\"\n",
    "YAML String Demo - Wave View Package\n",
    "====================================\n",
    "\n",
    "This demo shows how to use YAML string blocks directly instead of\n",
    "dictionaries or separate files for configuration.\n",
    "\"\"\"\n",
    "\n",
    "import sys\n",
    "sys.path.insert(0, './wave_view')\n",
    "import wave_view as wv"
   ]
  },
  {
   "cell_type": "code",
   "execution_count": 2,
   "metadata": {},
   "outputs": [
    {
     "name": "stdout",
     "output_type": "stream",
     "text": [
      "📝 Using YAML string for configuration...\n"
     ]
    },
    {
     "ename": "FileNotFoundError",
     "evalue": "SPICE raw file not found: prototype/script/Ring_Oscillator_7stage.raw",
     "output_type": "error",
     "traceback": [
      "\u001b[31m---------------------------------------------------------------------------\u001b[39m",
      "\u001b[31mFileNotFoundError\u001b[39m                         Traceback (most recent call last)",
      "\u001b[36mCell\u001b[39m\u001b[36m \u001b[39m\u001b[32mIn[2]\u001b[39m\u001b[32m, line 23\u001b[39m\n\u001b[32m      5\u001b[39m yaml_config = \u001b[33m\"\"\"\u001b[39m\n\u001b[32m      6\u001b[39m \u001b[33mtitle: \u001b[39m\u001b[33m\"\u001b[39m\u001b[33m\"\u001b[39m\n\u001b[32m      7\u001b[39m \u001b[33mX:\u001b[39m\n\u001b[32m   (...)\u001b[39m\u001b[32m     19\u001b[39m \u001b[33mshow_rangeslider: true\u001b[39m\n\u001b[32m     20\u001b[39m \u001b[33m\"\"\"\u001b[39m\n\u001b[32m     22\u001b[39m \u001b[38;5;66;03m# Use the YAML string directly\u001b[39;00m\n\u001b[32m---> \u001b[39m\u001b[32m23\u001b[39m fig1 = \u001b[43mwv\u001b[49m\u001b[43m.\u001b[49m\u001b[43mplot\u001b[49m\u001b[43m(\u001b[49m\u001b[33;43m\"\u001b[39;49m\u001b[33;43mprototype/script/Ring_Oscillator_7stage.raw\u001b[39;49m\u001b[33;43m\"\u001b[39;49m\u001b[43m,\u001b[49m\u001b[43m \u001b[49m\u001b[43myaml_config\u001b[49m\u001b[43m)\u001b[49m\n\u001b[32m     24\u001b[39m \u001b[38;5;28mprint\u001b[39m(\u001b[33m\"\u001b[39m\u001b[33m✅ Plot created with YAML string config\u001b[39m\u001b[33m\"\u001b[39m)\n",
      "\u001b[36mFile \u001b[39m\u001b[32m~/Documents/GitHub/wave_view/src/wave_view/api.py:205\u001b[39m, in \u001b[36mplot\u001b[39m\u001b[34m(raw_file, config, show, processed_data)\u001b[39m\n\u001b[32m    203\u001b[39m \u001b[38;5;66;03m# Check if file exists\u001b[39;00m\n\u001b[32m    204\u001b[39m \u001b[38;5;28;01mif\u001b[39;00m \u001b[38;5;129;01mnot\u001b[39;00m file_path.exists():\n\u001b[32m--> \u001b[39m\u001b[32m205\u001b[39m     \u001b[38;5;28;01mraise\u001b[39;00m \u001b[38;5;167;01mFileNotFoundError\u001b[39;00m(\u001b[33mf\u001b[39m\u001b[33m\"\u001b[39m\u001b[33mSPICE raw file not found: \u001b[39m\u001b[38;5;132;01m{\u001b[39;00mfile_path\u001b[38;5;132;01m}\u001b[39;00m\u001b[33m\"\u001b[39m)\n\u001b[32m    207\u001b[39m \u001b[38;5;66;03m# Input validation for config\u001b[39;00m\n\u001b[32m    208\u001b[39m \u001b[38;5;28;01mif\u001b[39;00m config \u001b[38;5;129;01mis\u001b[39;00m \u001b[38;5;28;01mNone\u001b[39;00m:\n",
      "\u001b[31mFileNotFoundError\u001b[39m: SPICE raw file not found: prototype/script/Ring_Oscillator_7stage.raw"
     ]
    }
   ],
   "source": [
    "# %%\n",
    "# Example 1: Simple YAML string configuration\n",
    "print(\"📝 Using YAML string for configuration...\")\n",
    "\n",
    "yaml_config = \"\"\"\n",
    "title: \"\"\n",
    "X:\n",
    "  signal_key: \"raw.time\"\n",
    "  label: \"Time (s)\"\n",
    "Y:\n",
    "  - label: \"Supply Voltages (V)\"\n",
    "    signals:\n",
    "      VBUS05: \"v(bus05)\"\n",
    "      VBUS07: \"v(bus07)\"\n",
    "  - label: \"Current (A)\"\n",
    "    signals:\n",
    "      VBUS06: \"v(bus06)\"\n",
    "plot_height: 600\n",
    "show_rangeslider: true\n",
    "\"\"\"\n",
    "\n",
    "# Use the YAML string directly\n",
    "fig1 = wv.plot(\"prototype/script/Ring_Oscillator_7stage.raw\", yaml_config)\n",
    "print(\"✅ Plot created with YAML string config\")"
   ]
  },
  {
   "cell_type": "code",
   "execution_count": 3,
   "metadata": {},
   "outputs": [
    {
     "name": "stdout",
     "output_type": "stream",
     "text": [
      "✅ Created separate configurations for different analyses\n",
      "Use wv.plot() with each config to create separate figures\n"
     ]
    }
   ],
   "source": [
    "# Example of creating separate configurations instead of multi-figure\n",
    "supply_config = wv.config_from_yaml(\"\"\"\n",
    "title: \"Supply Voltage Analysis\"\n",
    "X:\n",
    "  signal_key: \"raw.time\"\n",
    "  label: \"Time (s)\"\n",
    "Y:\n",
    "  - label: \"Supply (V)\"\n",
    "    signals:\n",
    "      VDD: \"v(vdd)\"\n",
    "\"\"\")\n",
    "\n",
    "output_config = wv.config_from_yaml(\"\"\"\n",
    "title: \"Output Signal Analysis\"\n",
    "X:\n",
    "  signal_key: \"raw.time\"\n",
    "  label: \"Time (s)\"\n",
    "Y:\n",
    "  - label: \"Digital (V)\"\n",
    "    signals:\n",
    "      Output: \"v(bus06)\"\n",
    "\"\"\")\n",
    "\n",
    "print(\"✅ Created separate configurations for different analyses\")\n",
    "print(\"Use wv.plot() with each config to create separate figures\")"
   ]
  },
  {
   "cell_type": "code",
   "execution_count": null,
   "metadata": {},
   "outputs": [],
   "source": []
  },
  {
   "cell_type": "code",
   "execution_count": null,
   "metadata": {},
   "outputs": [],
   "source": []
  }
 ],
 "metadata": {
  "kernelspec": {
   "display_name": "venv",
   "language": "python",
   "name": "python3"
  },
  "language_info": {
   "codemirror_mode": {
    "name": "ipython",
    "version": 3
   },
   "file_extension": ".py",
   "mimetype": "text/x-python",
   "name": "python",
   "nbconvert_exporter": "python",
   "pygments_lexer": "ipython3",
   "version": "3.12.9"
  }
 },
 "nbformat": 4,
 "nbformat_minor": 2
}
